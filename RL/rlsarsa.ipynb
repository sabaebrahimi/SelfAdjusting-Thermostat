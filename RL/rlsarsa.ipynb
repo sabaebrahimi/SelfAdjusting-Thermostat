{
  "cells": [
    {
      "cell_type": "code",
      "execution_count": 1,
      "metadata": {
        "id": "EPrys6y_9qsN"
      },
      "outputs": [],
      "source": [
        "import numpy as np\n",
        "import random"
      ]
    },
    {
      "cell_type": "code",
      "execution_count": 31,
      "metadata": {
        "id": "_yZdYKr79weY"
      },
      "outputs": [],
      "source": [
        "qtable = np.empty(shape=(22,3))\n",
        "qtable.fill(0)\n",
        "\n",
        "state_values = [0.0]\n",
        "for i in range(0, 21):\n",
        "  state_values.append(17 + i/2)"
      ]
    },
    {
      "cell_type": "code",
      "execution_count": 30,
      "metadata": {
        "id": "F02ngvI0_D-9"
      },
      "outputs": [],
      "source": [
        "episodes = 4\n",
        "time_steps = 10\n",
        "initial_state = 10\n",
        "had_explore_recently = False\n",
        "prev_action_occ = 0\n",
        "nact = 100\n",
        "alpha = 0.0002\n",
        "gamma = 0.01\n",
        "epsilon = 0.1\n",
        "action1 = 0\n",
        "s_comfort = []"
      ]
    },
    {
      "cell_type": "code",
      "execution_count": 32,
      "metadata": {
        "id": "oxAw7yjXEgjF"
      },
      "outputs": [],
      "source": [
        "def max_in_row(a, b, c):\n",
        "  return a >= b and a >= c"
      ]
    },
    {
      "cell_type": "code",
      "execution_count": 33,
      "metadata": {
        "id": "c1YFspOikdSB"
      },
      "outputs": [],
      "source": [
        "def update_setpoints():\n",
        "  s_comfort = []\n",
        "  index = 0;\n",
        "  for row in qtable:\n",
        "    if max_in_row(row[0], row[1], row[2]):\n",
        "      s_comfort.append(state_values[index])\n",
        "    index += 1\n",
        "  sp_heating = max(s_comfort)\n",
        "  sp_cooling = min(s_comfort)\n",
        "  return sp_cooling, sp_heating"
      ]
    },
    {
      "cell_type": "code",
      "execution_count": 34,
      "metadata": {
        "id": "y4OBM7HeEsCG"
      },
      "outputs": [],
      "source": [
        "def random_action():\n",
        "  chance = random.random()\n",
        "  if chance <= 0.5:\n",
        "    return 1\n",
        "  return 2"
      ]
    },
    {
      "cell_type": "code",
      "execution_count": 35,
      "metadata": {
        "id": "mKoASRx-mCgL"
      },
      "outputs": [],
      "source": [
        "def choose_action(action, s_t):\n",
        "  # action_occ = int(input(\"Enter action\"))\n",
        "  if action == 0 and random.random() < epsilon:\n",
        "    action_exp = random_action()\n",
        "    return action_exp\n",
        "  else:\n",
        "    return np.argmax(qtable[s_t, :])"
      ]
    },
    {
      "cell_type": "code",
      "execution_count": 36,
      "metadata": {
        "id": "O_Q2zlbtHFGH"
      },
      "outputs": [],
      "source": [
        "def ret_reward(user_interaction):\n",
        "  if user_interaction == 0:\n",
        "    return 1\n",
        "  return nact"
      ]
    },
    {
      "cell_type": "code",
      "execution_count": 37,
      "metadata": {
        "id": "rdEJX_70GLs2"
      },
      "outputs": [],
      "source": [
        "def take_action(action, s_t):\n",
        "  print(s_t, action)\n",
        "  if (action != 0):\n",
        "    change_value = -1 if action == 1 else 1\n",
        "  else:\n",
        "    change_value = 0\n",
        "  s_t1 = (s_t + change_value) % 22\n",
        "  print(\"changing temperature...\")\n",
        "  #check the reaction of the user\n",
        "  print(\"state: \", state_values[s_t])\n",
        "  user_reaction = int(input(\"How do you think about it?\"))\n",
        "  reward = ret_reward(user_reaction)\n",
        "\n",
        "  return s_t1, reward"
      ]
    },
    {
      "cell_type": "code",
      "execution_count": 38,
      "metadata": {
        "id": "IZkQHJG8Iyr_"
      },
      "outputs": [],
      "source": [
        "def update(state, state2, reward, action, action2):\n",
        "    predict = qtable[state, action + 1]\n",
        "    target = reward + gamma * qtable[state2, action2]\n",
        "    qtable[state, action] = qtable[state, action] + alpha * (target - predict)"
      ]
    },
    {
      "cell_type": "code",
      "execution_count": 39,
      "metadata": {
        "colab": {
          "base_uri": "https://localhost:8080/",
          "height": 1000
        },
        "id": "CobPosVl_vlr",
        "outputId": "5782b352-e8f5-4f96-ff7b-81f544c34e86"
      },
      "outputs": [
        {
          "name": "stdout",
          "output_type": "stream",
          "text": [
            "sp1:  0.0 sp2:  27.0\n",
            "sp1:  0.0 sp2:  27.0\n",
            "10 1\n",
            "changing temperature...\n",
            "state:  21.5\n",
            "9 0\n",
            "changing temperature...\n",
            "state:  21.0\n"
          ]
        },
        {
          "ename": "ValueError",
          "evalue": "invalid literal for int() with base 10: ''",
          "output_type": "error",
          "traceback": [
            "\u001b[1;31m---------------------------------------------------------------------------\u001b[0m",
            "\u001b[1;31mValueError\u001b[0m                                Traceback (most recent call last)",
            "Cell \u001b[1;32mIn[39], line 12\u001b[0m\n\u001b[0;32m     10\u001b[0m   sp_cooling, sp_heating \u001b[39m=\u001b[39m update_setpoints()\n\u001b[0;32m     11\u001b[0m   \u001b[39mprint\u001b[39m(\u001b[39m\"\u001b[39m\u001b[39msp1: \u001b[39m\u001b[39m\"\u001b[39m, sp_cooling, \u001b[39m\"\u001b[39m\u001b[39msp2: \u001b[39m\u001b[39m\"\u001b[39m, sp_heating)\n\u001b[1;32m---> 12\u001b[0m s_t1, reward \u001b[39m=\u001b[39m take_action(action1, s_t)\n\u001b[0;32m     13\u001b[0m action2 \u001b[39m=\u001b[39m choose_action(action1, s_t1)\n\u001b[0;32m     14\u001b[0m update(s_t, s_t1, reward, action1, action2)\n",
            "Cell \u001b[1;32mIn[37], line 8\u001b[0m, in \u001b[0;36mtake_action\u001b[1;34m(action, s_t)\u001b[0m\n\u001b[0;32m      6\u001b[0m \u001b[39m#check the reaction of the user\u001b[39;00m\n\u001b[0;32m      7\u001b[0m \u001b[39mprint\u001b[39m(\u001b[39m\"\u001b[39m\u001b[39mstate: \u001b[39m\u001b[39m\"\u001b[39m, state_values[s_t])\n\u001b[1;32m----> 8\u001b[0m user_reaction \u001b[39m=\u001b[39m \u001b[39mint\u001b[39;49m(\u001b[39minput\u001b[39;49m(\u001b[39m\"\u001b[39;49m\u001b[39mHow do you think about it?\u001b[39;49m\u001b[39m\"\u001b[39;49m))\n\u001b[0;32m      9\u001b[0m reward \u001b[39m=\u001b[39m ret_reward(user_reaction)\n\u001b[0;32m     11\u001b[0m \u001b[39mreturn\u001b[39;00m s_t1, reward\n",
            "\u001b[1;31mValueError\u001b[0m: invalid literal for int() with base 10: ''"
          ]
        }
      ],
      "source": [
        "s_t = initial_state\n",
        "for i in range(episodes):\n",
        "  action1 = choose_action(action1, s_t)\n",
        "  if i % 10 == 0:\n",
        "    sp_cooling, sp_heating = update_setpoints()\n",
        "    print(\"sp1: \", sp_cooling, \"sp2: \", sp_heating)\n",
        "\n",
        "  for j in range(time_steps):\n",
        "    if j % 10 == 0:\n",
        "      sp_cooling, sp_heating = update_setpoints()\n",
        "      print(\"sp1: \", sp_cooling, \"sp2: \", sp_heating)\n",
        "    s_t1, reward = take_action(action1, s_t)\n",
        "    action2 = choose_action(action1, s_t1)\n",
        "    update(s_t, s_t1, reward, action1, action2)\n",
        "    action1 = action2\n",
        "    s_t = s_t1"
      ]
    }
  ],
  "metadata": {
    "colab": {
      "provenance": []
    },
    "kernelspec": {
      "display_name": "Python 3",
      "name": "python3"
    },
    "language_info": {
      "codemirror_mode": {
        "name": "ipython",
        "version": 3
      },
      "file_extension": ".py",
      "mimetype": "text/x-python",
      "name": "python",
      "nbconvert_exporter": "python",
      "pygments_lexer": "ipython3",
      "version": "3.9.6"
    }
  },
  "nbformat": 4,
  "nbformat_minor": 0
}
